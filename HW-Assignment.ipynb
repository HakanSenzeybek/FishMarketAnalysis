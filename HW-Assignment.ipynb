{
 "cells": [
  {
   "cell_type": "markdown",
   "id": "8114a53d",
   "metadata": {},
   "source": [
    "Model Complexity Task:"
   ]
  },
  {
   "cell_type": "code",
   "execution_count": 136,
   "id": "ada416ee",
   "metadata": {},
   "outputs": [
    {
     "name": "stdout",
     "output_type": "stream",
     "text": [
      "<class 'pandas.core.frame.DataFrame'>\n",
      "RangeIndex: 159 entries, 0 to 158\n",
      "Data columns (total 7 columns):\n",
      " #   Column   Non-Null Count  Dtype  \n",
      "---  ------   --------------  -----  \n",
      " 0   Species  159 non-null    object \n",
      " 1   Weight   159 non-null    float64\n",
      " 2   Length1  159 non-null    float64\n",
      " 3   Length2  159 non-null    float64\n",
      " 4   Length3  159 non-null    float64\n",
      " 5   Height   159 non-null    float64\n",
      " 6   Width    159 non-null    float64\n",
      "dtypes: float64(6), object(1)\n",
      "memory usage: 8.8+ KB\n",
      "  Species  Weight  Length1  Length2  Length3   Height   Width\n",
      "0   Bream   242.0     23.2     25.4     30.0  11.5200  4.0200\n",
      "1   Bream   290.0     24.0     26.3     31.2  12.4800  4.3056\n",
      "2   Bream   340.0     23.9     26.5     31.1  12.3778  4.6961\n",
      "3   Bream   363.0     26.3     29.0     33.5  12.7300  4.4555\n",
      "4   Bream   430.0     26.5     29.0     34.0  12.4440  5.1340\n",
      "  Species  Weight  Length1  Length2  Length3   Height   Width  Rand1  Rand2\n",
      "0   Bream   242.0     23.2     25.4     30.0  11.5200  4.0200     15      3\n",
      "1   Bream   290.0     24.0     26.3     31.2  12.4800  4.3056     78      2\n",
      "2   Bream   340.0     23.9     26.5     31.1  12.3778  4.6961     56      6\n",
      "3   Bream   363.0     26.3     29.0     33.5  12.7300  4.4555     69      4\n",
      "4   Bream   430.0     26.5     29.0     34.0  12.4440  5.1340     60      3\n",
      "<class 'pandas.core.frame.DataFrame'>\n",
      "RangeIndex: 159 entries, 0 to 158\n",
      "Data columns (total 9 columns):\n",
      " #   Column   Non-Null Count  Dtype  \n",
      "---  ------   --------------  -----  \n",
      " 0   Species  159 non-null    object \n",
      " 1   Weight   159 non-null    float64\n",
      " 2   Length1  159 non-null    float64\n",
      " 3   Length2  159 non-null    float64\n",
      " 4   Length3  159 non-null    float64\n",
      " 5   Height   159 non-null    float64\n",
      " 6   Width    159 non-null    float64\n",
      " 7   Rand1    159 non-null    int32  \n",
      " 8   Rand2    159 non-null    int32  \n",
      "dtypes: float64(6), int32(2), object(1)\n",
      "memory usage: 10.1+ KB\n"
     ]
    }
   ],
   "source": [
    "import pandas as pd\n",
    "import numpy as np\n",
    "from sklearn.preprocessing import LabelEncoder\n",
    "from sklearn.model_selection import train_test_split\n",
    "from sklearn.linear_model import LinearRegression\n",
    "from scipy.optimize import minimize\n",
    "from sklearn.metrics import mean_squared_error, r2_score\n",
    "from sklearn.metrics import accuracy_score\n",
    "from sklearn.metrics import confusion_matrix\n",
    "\n",
    "# Load the data into a pandas DataFrame\n",
    "fish_df = pd.read_csv('Fish.csv')\n",
    "fish_df.info()\n",
    "\n",
    "# Print the first 5 rows of the DataFrame to verify it was loaded correctly\n",
    "print(fish_df.head())\n",
    "\n",
    "# Add two random columns to the DataFrame\n",
    "fish_df['Rand1'] = np.random.randint(10, 100, size=len(fish_df))\n",
    "fish_df['Rand2'] = np.random.randint(1, 7, size=len(fish_df))\n",
    "#Print the added rows of the DataFrame to verify\n",
    "print(fish_df.head())\n",
    "fish_df.info()"
   ]
  },
  {
   "cell_type": "code",
   "execution_count": 137,
   "id": "ae94f152",
   "metadata": {},
   "outputs": [
    {
     "name": "stdout",
     "output_type": "stream",
     "text": [
      "['Bream' 'Parkki' 'Perch' 'Pike' 'Roach' 'Smelt' 'Whitefish']\n",
      "   Species  Weight  Length1  Length2  Length3   Height   Width  Rand1  Rand2\n",
      "0        0   242.0     23.2     25.4     30.0  11.5200  4.0200     15      3\n",
      "1        0   290.0     24.0     26.3     31.2  12.4800  4.3056     78      2\n",
      "2        0   340.0     23.9     26.5     31.1  12.3778  4.6961     56      6\n",
      "3        0   363.0     26.3     29.0     33.5  12.7300  4.4555     69      4\n",
      "4        0   430.0     26.5     29.0     34.0  12.4440  5.1340     60      3\n"
     ]
    }
   ],
   "source": [
    "# Convert the \"Species\" column to numeric values\n",
    "le = LabelEncoder()\n",
    "fish_df['Species'] = le.fit_transform(fish_df['Species'])\n",
    "\n",
    "## Print the categories\n",
    "print(le.classes_)\n",
    "\n",
    "print(fish_df.head())\n",
    "# Split the data set into a training set and a test set\n",
    "X = fish_df.drop('Weight', axis=1)\n",
    "y = fish_df['Weight']\n",
    "X_train, X_test, y_train, y_test = train_test_split(X, y, test_size=0.2, random_state=42)\n",
    "\n",
    "\n"
   ]
  },
  {
   "cell_type": "code",
   "execution_count": 138,
   "id": "17da606d",
   "metadata": {},
   "outputs": [
    {
     "name": "stdout",
     "output_type": "stream",
     "text": [
      "Model-1:\n",
      "Coefficients: -668.3828669318921 [ 2.99370849e+01 -3.72371429e-01  6.98082854e+01 -4.45510671e+01\n",
      "  4.10851184e+01  2.28271078e+00  6.12718628e-02  8.16588313e+00]\n",
      "R-squared: 0.9057382248899991\n"
     ]
    }
   ],
   "source": [
    "# Model-1: Fit a regression model with all variables\n",
    "model1 = LinearRegression()\n",
    "model1.fit(X_train, y_train)\n",
    "y_pred1 = model1.predict(X_test)\n",
    "\n",
    "# Print the model coefficients and R-squared\n",
    "print('Model-1:')\n",
    "print('Coefficients:', model1.intercept_, model1.coef_)\n",
    "print('R-squared:', r2_score(y_test, y_pred1))\n",
    "\n"
   ]
  },
  {
   "cell_type": "code",
   "execution_count": 139,
   "id": "c73f61c0",
   "metadata": {},
   "outputs": [
    {
     "name": "stdout",
     "output_type": "stream",
     "text": [
      "Model-2:\n",
      "Coefficients: -664.8011819976059 [ 29.75785298   0.65759422  68.63485301 -44.38803202  40.93220071\n",
      "   2.94633573   8.08741078]\n",
      "R-squared: 0.905704548904201\n"
     ]
    }
   ],
   "source": [
    "# Model-2: Drop column Rand1 and re-run regression\n",
    "X_train2 = X_train.drop('Rand1', axis=1)\n",
    "X_test2 = X_test.drop('Rand1', axis=1)\n",
    "model2 = LinearRegression()\n",
    "model2.fit(X_train2, y_train)\n",
    "y_pred2 = model2.predict(X_test2)\n",
    "\n",
    "# Print the model coefficients and R-squared\n",
    "print('Model-2:')\n",
    "print('Coefficients:', model2.intercept_, model2.coef_)\n",
    "print('R-squared:', r2_score(y_test, y_pred2))"
   ]
  },
  {
   "cell_type": "code",
   "execution_count": 140,
   "id": "4bfa3f72",
   "metadata": {},
   "outputs": [
    {
     "name": "stdout",
     "output_type": "stream",
     "text": [
      "Model-3:\n",
      "Coefficients: -633.8373367836286 [ 29.62074303   3.03826783  67.13990751 -44.91323749  41.76187604\n",
      "  -0.29532667]\n",
      "R-squared: 0.9034878699241473\n"
     ]
    }
   ],
   "source": [
    "# Model-3: Drop column Rand1 and Rand2, re-run regression\n",
    "X_train3 = X_train.drop(['Rand1', 'Rand2'], axis=1)\n",
    "X_test3 = X_test.drop(['Rand1', 'Rand2'], axis=1)\n",
    "model3 = LinearRegression()\n",
    "model3.fit(X_train3, y_train)\n",
    "y_pred3 = model3.predict(X_test3)\n",
    "\n",
    "# Print the model coefficients and R-squared\n",
    "print('Model-3:')\n",
    "print('Coefficients:', model3.intercept_, model3.coef_)\n",
    "print('R-squared:', r2_score(y_test, y_pred3))"
   ]
  },
  {
   "cell_type": "code",
   "execution_count": 131,
   "id": "ebe9a15f",
   "metadata": {},
   "outputs": [
    {
     "name": "stdout",
     "output_type": "stream",
     "text": [
      "     Species  Length1  Length2  Length3  Height   Width  Rand1  Rand2\n",
      "75         2     15.0     16.2     17.2  4.5924  2.6316     69      1\n",
      "138        3     43.2     46.0     48.7  7.7920  4.8700     50      5\n",
      "75      51.5\n",
      "138    567.0\n",
      "Name: Weight, dtype: float64\n",
      "Model-4:\n",
      "Coefficients: -54.24248868830233 [-5.51250312  3.53811463  6.10787797  6.22221691  0.42037851  0.04796116\n",
      " -2.09862248  0.47421197]\n",
      "R-squared: 0.4471906069464582\n"
     ]
    }
   ],
   "source": [
    "# Model-4: Keep only the top two records and drop the rest of the records\n",
    "X_train4 = X_train.head(2)\n",
    "y_train4 = y_train.head(2)\n",
    "\n",
    "print(X_train4)\n",
    "print(y_train4)\n",
    "model4 = LinearRegression()\n",
    "model4.fit(X_train4, y_train4)\n",
    "y_pred4 = model4.predict(X_test)\n",
    "\n",
    "# Print the model coefficients and R-squared\n",
    "print('Model-4:')\n",
    "print('Coefficients:', model4.intercept_, model4.coef_)\n",
    "print('R-squared:', r2_score(y_test, y_pred4))"
   ]
  },
  {
   "cell_type": "markdown",
   "id": "bc0c0d2b",
   "metadata": {},
   "source": [
    "After running the four linear regression models(the values can change), we can observe the following: \n",
    "\n",
    "Model-1, which includes all variables, has the highest R-squared value of 0.90573, indicating that it can explain 90.573% of the variability in the fish weight. The coefficients of the model show the contribution of each feature to the fish weight.\n",
    "\n",
    "Model-2, which drops the Rand1 variable, has a lower R-squared value of 0.90570, indicating that dropping this variable did not have a significant impact on the model performance. The coefficients of the model show that dropping Rand1 did not affect the other features' contribution to the fish weight.Which means that when we removed the 'Rand1' variable from the linear regression model, the performance of the model did not change significantly.\n",
    "\n",
    "Model-3, which drops both Rand1 and Rand2 variables, has a much higher R-squared value of 0.9034, indicating that dropping both variables had a significant impact on the model performance. The coefficients of the model show that without Rand1 and Rand2, only the Species and Length2 variables have a significant contribution to the fish weight.\n",
    "\n",
    "Model-4, which keeps only the top two records, has a very low R-squared value of 0.447, indicating that the model does not fit the two records in the training set.\n",
    "\n",
    "“Optimization” task: "
   ]
  },
  {
   "cell_type": "code",
   "execution_count": 143,
   "id": "1b6324e2",
   "metadata": {},
   "outputs": [
    {
     "name": "stdout",
     "output_type": "stream",
     "text": [
      "Regressor coefficients:  [-2.90080873e-04 -1.20914581e-02  6.89875069e-01 -5.70251811e-01\n",
      "  3.38336707e-01]\n",
      "R^2 score:  0.9158987329199345\n"
     ]
    }
   ],
   "source": [
    "# Load data into numpy arrays\n",
    "data = np.loadtxt(\"Fish.csv\", delimiter=\",\", skiprows=1, usecols=(1,2,3,4,5,6))\n",
    "\n",
    "# Split data into input variables (X) and output variable (y)\n",
    "X = data[:, :-1]\n",
    "y = data[:, -1]\n",
    "\n",
    "# Define the objective function for the linear regression model\n",
    "def objective(beta, X, y):\n",
    "    y_pred = np.dot(X, beta)\n",
    "    residual = y - y_pred\n",
    "    mse = np.mean(residual ** 2)\n",
    "    return mse\n",
    "\n",
    "# Initialize the regression coefficients with all ones\n",
    "beta_init = np.ones(X.shape[1])\n",
    "\n",
    "# Optimize the objective function to find the regression coefficients\n",
    "result = minimize(objective, beta_init, args=(X, y))\n",
    "\n",
    "# Print the regression coefficients and R^2 score\n",
    "print(\"Regressor coefficients: \", result.x)\n",
    "y_pred = np.dot(X, result.x)\n",
    "SS_res = np.sum((y - y_pred) ** 2)\n",
    "SS_tot = np.sum((y - np.mean(y)) ** 2)\n",
    "r_squared = 1 - (SS_res / SS_tot)\n",
    "print(\"R^2 score: \", r_squared)\n"
   ]
  },
  {
   "cell_type": "markdown",
   "id": "a9659ec7",
   "metadata": {},
   "source": [
    "If the optimizer produces similar regression coefficients and R^2 scores to the previous models, it suggests that the optimizer is finding a good fit for the data.\n",
    "\n",
    "“Regularization” task"
   ]
  },
  {
   "cell_type": "code",
   "execution_count": 144,
   "id": "14f76f90",
   "metadata": {},
   "outputs": [
    {
     "name": "stdout",
     "output_type": "stream",
     "text": [
      "Regressor coefficients for alpha=0.1:  [ 0.00127646  0.          0.16455764 -0.09915227  0.15457517]\n",
      "R^2 score for alpha=0.1:  0.8806950892444032\n",
      "Regressor coefficients for alpha=0.5:  [0.00252671 0.         0.03694263 0.         0.07244882]\n",
      "R^2 score for alpha=0.5:  0.8466465200909636\n",
      "Regressor coefficients for alpha=1.0:  [0.00381043 0.         0.         0.00941103 0.00862261]\n",
      "R^2 score for alpha=1.0:  0.7993600535952389\n"
     ]
    }
   ],
   "source": [
    "# Load data into numpy arrays\n",
    "data = np.loadtxt(\"Fish.csv\", delimiter=\",\", skiprows=1, usecols=(1,2,3,4,5,6))\n",
    "\n",
    "# Split data into input variables (X) and output variable (y)\n",
    "X = data[:, :-1]\n",
    "y = data[:, -1]\n",
    "\n",
    "# Initialize the Lasso model with different penalty multipliers\n",
    "lasso1 = Lasso(alpha=0.1)\n",
    "lasso2 = Lasso(alpha=0.5)\n",
    "lasso3 = Lasso(alpha=1.0)\n",
    "\n",
    "# Fit the Lasso model to the data\n",
    "lasso1.fit(X, y)\n",
    "lasso2.fit(X, y)\n",
    "lasso3.fit(X, y)\n",
    "\n",
    "# Print the regression coefficients and R^2 score\n",
    "print(\"Regressor coefficients for alpha=0.1: \", lasso1.coef_)\n",
    "print(\"R^2 score for alpha=0.1: \", lasso1.score(X, y))\n",
    "print(\"Regressor coefficients for alpha=0.5: \", lasso2.coef_)\n",
    "print(\"R^2 score for alpha=0.5: \", lasso2.score(X, y))\n",
    "print(\"Regressor coefficients for alpha=1.0: \", lasso3.coef_)\n",
    "print(\"R^2 score for alpha=1.0: \", lasso3.score(X, y))\n",
    "\n"
   ]
  },
  {
   "cell_type": "markdown",
   "id": "88225492",
   "metadata": {},
   "source": [
    "After running the Lasso models with different penalty multipliers, we can observe that increasing the regularization strength (i.e. increasing the alpha parameter) leads to lower R^2 scores and more heavily penalized regression coefficients.\n",
    "\n",
    "For the Lasso model with alpha=0.1, the R^2 score is 0.880, and all variables have non-zero regression coefficients, which suggests that all variables in the dataset are relevant for predicting the weight of the fish.\n",
    "\n",
    "For the Lasso model with alpha=0.5, the R^2 score drops to 0.846, and only the variables \"Length1\" and \"Width\" have non-zero regression coefficients. This suggests that these two variables are the most important predictors of the fish weight, while the other variables may not be as relevant.\n",
    "\n",
    "For the Lasso model with alpha=1.0, the R^2 score drops further to 0.799, and only the variable \"Length1\" has a non-zero regression coefficient. This suggests that \"Length1\" is the most important predictor of the fish weight, and the other variables are not as important.\n",
    "\n",
    "Overall, the Lasso models demonstrate how regularization can be used to perform feature selection and identify the most important variables for predicting the target variable. By adjusting the alpha parameter, we can control the level of regularization and find the optimal balance between model complexity and predictive performance."
   ]
  },
  {
   "cell_type": "markdown",
   "id": "0a545064",
   "metadata": {},
   "source": [
    "What we learn from data:"
   ]
  },
  {
   "cell_type": "markdown",
   "id": "5d43df4a",
   "metadata": {},
   "source": [
    "Overall, our analysis of the fish market dataset suggests that the physical characteristics of the fish, particularly their length and height, are strong predictors of their weight. However, other variables such as species and width may also have some predictive power. By selecting the appropriate subset of variables and tuning the regularization strength, we can build accurate predictive models for the fish weight."
   ]
  },
  {
   "cell_type": "code",
   "execution_count": null,
   "id": "9b3c6ef3",
   "metadata": {},
   "outputs": [],
   "source": []
  }
 ],
 "metadata": {
  "kernelspec": {
   "display_name": "Python 3 (ipykernel)",
   "language": "python",
   "name": "python3"
  },
  "language_info": {
   "codemirror_mode": {
    "name": "ipython",
    "version": 3
   },
   "file_extension": ".py",
   "mimetype": "text/x-python",
   "name": "python",
   "nbconvert_exporter": "python",
   "pygments_lexer": "ipython3",
   "version": "3.9.12"
  }
 },
 "nbformat": 4,
 "nbformat_minor": 5
}
